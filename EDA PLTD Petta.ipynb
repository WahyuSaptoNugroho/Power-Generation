{
 "cells": [
  {
   "cell_type": "code",
   "execution_count": 1,
   "id": "c7a5e6be",
   "metadata": {},
   "outputs": [],
   "source": [
    "import seaborn as sns\n",
    "import pandas as pd\n",
    "import numpy as np\n",
    "import matplotlib.pyplot as plt"
   ]
  },
  {
   "cell_type": "code",
   "execution_count": 2,
   "id": "fe25321a",
   "metadata": {},
   "outputs": [
    {
     "data": {
      "text/html": [
       "<div>\n",
       "<style scoped>\n",
       "    .dataframe tbody tr th:only-of-type {\n",
       "        vertical-align: middle;\n",
       "    }\n",
       "\n",
       "    .dataframe tbody tr th {\n",
       "        vertical-align: top;\n",
       "    }\n",
       "\n",
       "    .dataframe thead th {\n",
       "        text-align: right;\n",
       "    }\n",
       "</style>\n",
       "<table border=\"1\" class=\"dataframe\">\n",
       "  <thead>\n",
       "    <tr style=\"text-align: right;\">\n",
       "      <th></th>\n",
       "      <th>Date</th>\n",
       "      <th>Month</th>\n",
       "      <th>Year</th>\n",
       "      <th>No Engine</th>\n",
       "      <th>HM Hari Ini</th>\n",
       "      <th>Services</th>\n",
       "      <th>Problems</th>\n",
       "      <th>Periodical Services (H)</th>\n",
       "      <th>Trouble (H)</th>\n",
       "    </tr>\n",
       "  </thead>\n",
       "  <tbody>\n",
       "    <tr>\n",
       "      <th>0</th>\n",
       "      <td>11/11/2020</td>\n",
       "      <td>November</td>\n",
       "      <td>2020</td>\n",
       "      <td>65247</td>\n",
       "      <td>227.962</td>\n",
       "      <td>Service Periodic 1000</td>\n",
       "      <td>No Failure</td>\n",
       "      <td>4.0</td>\n",
       "      <td>0.0</td>\n",
       "    </tr>\n",
       "    <tr>\n",
       "      <th>1</th>\n",
       "      <td>12/11/2020</td>\n",
       "      <td>November</td>\n",
       "      <td>2020</td>\n",
       "      <td>65247</td>\n",
       "      <td>227.978</td>\n",
       "      <td>No Service</td>\n",
       "      <td>Cuci Radiator</td>\n",
       "      <td>6.0</td>\n",
       "      <td>0.0</td>\n",
       "    </tr>\n",
       "    <tr>\n",
       "      <th>2</th>\n",
       "      <td>14/11/2020</td>\n",
       "      <td>November</td>\n",
       "      <td>2020</td>\n",
       "      <td>65247</td>\n",
       "      <td>228.013</td>\n",
       "      <td>Service Exciter</td>\n",
       "      <td>No Failure</td>\n",
       "      <td>6.0</td>\n",
       "      <td>0.0</td>\n",
       "    </tr>\n",
       "    <tr>\n",
       "      <th>3</th>\n",
       "      <td>15/11/2020</td>\n",
       "      <td>November</td>\n",
       "      <td>2020</td>\n",
       "      <td>65247</td>\n",
       "      <td>228.013</td>\n",
       "      <td>Service AVR</td>\n",
       "      <td>No Failure</td>\n",
       "      <td>0.0</td>\n",
       "      <td>13.0</td>\n",
       "    </tr>\n",
       "    <tr>\n",
       "      <th>4</th>\n",
       "      <td>01/12/2020</td>\n",
       "      <td>Desember</td>\n",
       "      <td>2020</td>\n",
       "      <td>65247</td>\n",
       "      <td>228.384</td>\n",
       "      <td>Service Periodic</td>\n",
       "      <td>No Failure</td>\n",
       "      <td>5.0</td>\n",
       "      <td>0.0</td>\n",
       "    </tr>\n",
       "  </tbody>\n",
       "</table>\n",
       "</div>"
      ],
      "text/plain": [
       "         Date     Month  Year  No Engine  HM Hari Ini               Services  \\\n",
       "0  11/11/2020  November  2020      65247      227.962  Service Periodic 1000   \n",
       "1  12/11/2020  November  2020      65247      227.978             No Service   \n",
       "2  14/11/2020  November  2020      65247      228.013        Service Exciter   \n",
       "3  15/11/2020  November  2020      65247      228.013            Service AVR   \n",
       "4  01/12/2020  Desember  2020      65247      228.384       Service Periodic   \n",
       "\n",
       "        Problems  Periodical Services (H)  Trouble (H)  \n",
       "0     No Failure                      4.0          0.0  \n",
       "1  Cuci Radiator                      6.0          0.0  \n",
       "2     No Failure                      6.0          0.0  \n",
       "3     No Failure                      0.0         13.0  \n",
       "4     No Failure                      5.0          0.0  "
      ]
     },
     "execution_count": 2,
     "metadata": {},
     "output_type": "execute_result"
    }
   ],
   "source": [
    "df_data = pd.read_csv('Machine Report For Tahuna.csv')\n",
    "df_data.head()"
   ]
  },
  {
   "cell_type": "code",
   "execution_count": 3,
   "id": "b3a872e1",
   "metadata": {},
   "outputs": [
    {
     "data": {
      "text/html": [
       "<div>\n",
       "<style scoped>\n",
       "    .dataframe tbody tr th:only-of-type {\n",
       "        vertical-align: middle;\n",
       "    }\n",
       "\n",
       "    .dataframe tbody tr th {\n",
       "        vertical-align: top;\n",
       "    }\n",
       "\n",
       "    .dataframe thead th {\n",
       "        text-align: right;\n",
       "    }\n",
       "</style>\n",
       "<table border=\"1\" class=\"dataframe\">\n",
       "  <thead>\n",
       "    <tr style=\"text-align: right;\">\n",
       "      <th></th>\n",
       "      <th>Date</th>\n",
       "      <th>Month</th>\n",
       "      <th>Year</th>\n",
       "      <th>No Engine</th>\n",
       "      <th>HM Hari Ini</th>\n",
       "      <th>Services</th>\n",
       "      <th>Problems</th>\n",
       "      <th>Periodical Services (H)</th>\n",
       "      <th>Trouble (H)</th>\n",
       "    </tr>\n",
       "  </thead>\n",
       "  <tbody>\n",
       "    <tr>\n",
       "      <th>0</th>\n",
       "      <td>11/11/2020</td>\n",
       "      <td>November</td>\n",
       "      <td>2020</td>\n",
       "      <td>65247</td>\n",
       "      <td>227.962</td>\n",
       "      <td>Service Periodic 1000</td>\n",
       "      <td>No Failure</td>\n",
       "      <td>4.0</td>\n",
       "      <td>0.0</td>\n",
       "    </tr>\n",
       "    <tr>\n",
       "      <th>1</th>\n",
       "      <td>12/11/2020</td>\n",
       "      <td>November</td>\n",
       "      <td>2020</td>\n",
       "      <td>65247</td>\n",
       "      <td>227.978</td>\n",
       "      <td>No Service</td>\n",
       "      <td>Cuci Radiator</td>\n",
       "      <td>6.0</td>\n",
       "      <td>0.0</td>\n",
       "    </tr>\n",
       "    <tr>\n",
       "      <th>2</th>\n",
       "      <td>14/11/2020</td>\n",
       "      <td>November</td>\n",
       "      <td>2020</td>\n",
       "      <td>65247</td>\n",
       "      <td>228.013</td>\n",
       "      <td>Service Exciter</td>\n",
       "      <td>No Failure</td>\n",
       "      <td>6.0</td>\n",
       "      <td>0.0</td>\n",
       "    </tr>\n",
       "    <tr>\n",
       "      <th>3</th>\n",
       "      <td>15/11/2020</td>\n",
       "      <td>November</td>\n",
       "      <td>2020</td>\n",
       "      <td>65247</td>\n",
       "      <td>228.013</td>\n",
       "      <td>Service AVR</td>\n",
       "      <td>No Failure</td>\n",
       "      <td>0.0</td>\n",
       "      <td>13.0</td>\n",
       "    </tr>\n",
       "    <tr>\n",
       "      <th>4</th>\n",
       "      <td>01/12/2020</td>\n",
       "      <td>Desember</td>\n",
       "      <td>2020</td>\n",
       "      <td>65247</td>\n",
       "      <td>228.384</td>\n",
       "      <td>Service Periodic</td>\n",
       "      <td>No Failure</td>\n",
       "      <td>5.0</td>\n",
       "      <td>0.0</td>\n",
       "    </tr>\n",
       "    <tr>\n",
       "      <th>...</th>\n",
       "      <td>...</td>\n",
       "      <td>...</td>\n",
       "      <td>...</td>\n",
       "      <td>...</td>\n",
       "      <td>...</td>\n",
       "      <td>...</td>\n",
       "      <td>...</td>\n",
       "      <td>...</td>\n",
       "      <td>...</td>\n",
       "    </tr>\n",
       "    <tr>\n",
       "      <th>130</th>\n",
       "      <td>03/01/2022</td>\n",
       "      <td>Januari</td>\n",
       "      <td>2022</td>\n",
       "      <td>65245</td>\n",
       "      <td>77.287</td>\n",
       "      <td>Service Periodic 1000</td>\n",
       "      <td>No Failure</td>\n",
       "      <td>5.0</td>\n",
       "      <td>0.0</td>\n",
       "    </tr>\n",
       "    <tr>\n",
       "      <th>131</th>\n",
       "      <td>28/01/2022</td>\n",
       "      <td>Januari</td>\n",
       "      <td>2022</td>\n",
       "      <td>65245</td>\n",
       "      <td>77.817</td>\n",
       "      <td>Service Periodic 500</td>\n",
       "      <td>Ganti Air Radiator</td>\n",
       "      <td>5.0</td>\n",
       "      <td>0.0</td>\n",
       "    </tr>\n",
       "    <tr>\n",
       "      <th>132</th>\n",
       "      <td>02/02/2022</td>\n",
       "      <td>Februari</td>\n",
       "      <td>2022</td>\n",
       "      <td>65245</td>\n",
       "      <td>77.933</td>\n",
       "      <td>No Service</td>\n",
       "      <td>Cuci Radiator</td>\n",
       "      <td>5.0</td>\n",
       "      <td>0.0</td>\n",
       "    </tr>\n",
       "    <tr>\n",
       "      <th>133</th>\n",
       "      <td>23/02/2022</td>\n",
       "      <td>Februari</td>\n",
       "      <td>2022</td>\n",
       "      <td>65245</td>\n",
       "      <td>78.430</td>\n",
       "      <td>No Service</td>\n",
       "      <td>Generator Hangus</td>\n",
       "      <td>0.0</td>\n",
       "      <td>0.0</td>\n",
       "    </tr>\n",
       "    <tr>\n",
       "      <th>134</th>\n",
       "      <td>26/05/2022</td>\n",
       "      <td>Mei</td>\n",
       "      <td>2022</td>\n",
       "      <td>65245</td>\n",
       "      <td>78.430</td>\n",
       "      <td>No Service</td>\n",
       "      <td>Hose Radiator Bawah Diambil Untuk Unit 3</td>\n",
       "      <td>5.0</td>\n",
       "      <td>0.0</td>\n",
       "    </tr>\n",
       "  </tbody>\n",
       "</table>\n",
       "<p>135 rows × 9 columns</p>\n",
       "</div>"
      ],
      "text/plain": [
       "           Date     Month  Year  No Engine  HM Hari Ini  \\\n",
       "0    11/11/2020  November  2020      65247      227.962   \n",
       "1    12/11/2020  November  2020      65247      227.978   \n",
       "2    14/11/2020  November  2020      65247      228.013   \n",
       "3    15/11/2020  November  2020      65247      228.013   \n",
       "4    01/12/2020  Desember  2020      65247      228.384   \n",
       "..          ...       ...   ...        ...          ...   \n",
       "130  03/01/2022   Januari  2022      65245       77.287   \n",
       "131  28/01/2022   Januari  2022      65245       77.817   \n",
       "132  02/02/2022  Februari  2022      65245       77.933   \n",
       "133  23/02/2022  Februari  2022      65245       78.430   \n",
       "134  26/05/2022       Mei  2022      65245       78.430   \n",
       "\n",
       "                  Services                                  Problems  \\\n",
       "0    Service Periodic 1000                                No Failure   \n",
       "1               No Service                             Cuci Radiator   \n",
       "2          Service Exciter                                No Failure   \n",
       "3              Service AVR                                No Failure   \n",
       "4         Service Periodic                                No Failure   \n",
       "..                     ...                                       ...   \n",
       "130  Service Periodic 1000                                No Failure   \n",
       "131   Service Periodic 500                        Ganti Air Radiator   \n",
       "132             No Service                             Cuci Radiator   \n",
       "133             No Service                          Generator Hangus   \n",
       "134             No Service  Hose Radiator Bawah Diambil Untuk Unit 3   \n",
       "\n",
       "     Periodical Services (H)  Trouble (H)  \n",
       "0                        4.0          0.0  \n",
       "1                        6.0          0.0  \n",
       "2                        6.0          0.0  \n",
       "3                        0.0         13.0  \n",
       "4                        5.0          0.0  \n",
       "..                       ...          ...  \n",
       "130                      5.0          0.0  \n",
       "131                      5.0          0.0  \n",
       "132                      5.0          0.0  \n",
       "133                      0.0          0.0  \n",
       "134                      5.0          0.0  \n",
       "\n",
       "[135 rows x 9 columns]"
      ]
     },
     "execution_count": 3,
     "metadata": {},
     "output_type": "execute_result"
    }
   ],
   "source": [
    "df_data"
   ]
  },
  {
   "cell_type": "code",
   "execution_count": 4,
   "id": "f0ae8547",
   "metadata": {},
   "outputs": [
    {
     "name": "stdout",
     "output_type": "stream",
     "text": [
      "<class 'pandas.core.frame.DataFrame'>\n",
      "RangeIndex: 135 entries, 0 to 134\n",
      "Data columns (total 9 columns):\n",
      " #   Column                   Non-Null Count  Dtype  \n",
      "---  ------                   --------------  -----  \n",
      " 0   Date                     135 non-null    object \n",
      " 1   Month                    135 non-null    object \n",
      " 2   Year                     135 non-null    int64  \n",
      " 3   No Engine                135 non-null    int64  \n",
      " 4   HM Hari Ini              135 non-null    float64\n",
      " 5   Services                 135 non-null    object \n",
      " 6   Problems                 135 non-null    object \n",
      " 7   Periodical Services (H)  135 non-null    float64\n",
      " 8   Trouble (H)              135 non-null    float64\n",
      "dtypes: float64(3), int64(2), object(4)\n",
      "memory usage: 9.6+ KB\n"
     ]
    }
   ],
   "source": [
    "df_data.info()"
   ]
  },
  {
   "cell_type": "code",
   "execution_count": 5,
   "id": "9c3d5e80",
   "metadata": {},
   "outputs": [
    {
     "data": {
      "text/plain": [
       "(135, 9)"
      ]
     },
     "execution_count": 5,
     "metadata": {},
     "output_type": "execute_result"
    }
   ],
   "source": [
    "df_data.shape"
   ]
  },
  {
   "cell_type": "code",
   "execution_count": 6,
   "id": "cad96779",
   "metadata": {
    "scrolled": true
   },
   "outputs": [
    {
     "data": {
      "text/plain": [
       "No Failure                                  69\n",
       "Cuci Radiator                               11\n",
       "Varistor Problem                             8\n",
       "Penggantian Panel Deepsea                    2\n",
       "Generator Hangus                             2\n",
       "Tegangan Goyang dan Lepas Sinkron            2\n",
       "Menambah Olie Mesin                          2\n",
       "Ganti Air Radiator                           1\n",
       "Generator Problem                            1\n",
       "Pemasangan Exciter                           1\n",
       "Penggantian Corrosion Resistor               1\n",
       "Lepas Exciter Untuk Unit 3                   1\n",
       "Ganti Filter Solar                           1\n",
       "Reset HM Deepsea                             1\n",
       "Ganti V Belt Radiator                        1\n",
       "Electrical Generator Rusak                   1\n",
       "Kebocoran Air                                1\n",
       "Cuci Radiator dan Ganti Air Galon            1\n",
       "Varistor dan PMG Hangus                      1\n",
       "Pasang Exciter dari Unit 2                   1\n",
       "Hose Radiator Bawah Bocor                    1\n",
       "Mengganti Radiator                           1\n",
       "Ganti ACB dari Unit 1                        1\n",
       "Ganti Radiator                               1\n",
       "Ambil FIP Unit 1 Pindah ke Unit 2            1\n",
       "Panel Deepsea Rusak                          1\n",
       "Ganti Hose Radiator yang Pecah               1\n",
       "Ganti Realseal                               1\n",
       "Ganti Potensio Meter AVR Local               1\n",
       "Selenoid Hangus                              1\n",
       "AVR Local Rusak                              1\n",
       "Penggantian Element Outer Inner              1\n",
       "Setting Ulang Motor Servo RPM Engine         1\n",
       "Ganti Accu 12 Volt 100 A                     1\n",
       "Perbaikan Speed Adjust                       1\n",
       "Penggantian Gaket Silinder Head No 6         1\n",
       "Ganti Generator Unit 2                       1\n",
       "Breakdown(Oli Mesin Kecampur Air)            1\n",
       "Panel Deepsea dipinjam Untuk Unit 2          1\n",
       "Panel Deepsea Dikembalikan dari Unit 2       1\n",
       "ACB Dilepas dan Dipindah Unit 4              1\n",
       "Gangguan Temperature Tinggi                  1\n",
       "Waterpump Bocor                              1\n",
       "Dioda Generator Rusak                        1\n",
       "Pengecekan Level Oli Dibawah Standart        1\n",
       "Hose Radiator Bawah Diambil Untuk Unit 3     1\n",
       "Name: Problems, dtype: int64"
      ]
     },
     "execution_count": 6,
     "metadata": {},
     "output_type": "execute_result"
    }
   ],
   "source": [
    "df_data['Problems'].value_counts() #Menghitung Jumlah Problems Pada Dataset"
   ]
  },
  {
   "cell_type": "code",
   "execution_count": 10,
   "id": "6dde94ce",
   "metadata": {},
   "outputs": [
    {
     "data": {
      "image/png": "[encoded data removed]",
      "text/plain": [
       "<Figure size 1500x1250 with 1 Axes>"
      ]
     },
     "metadata": {
      "needs_background": "light"
     },
     "output_type": "display_data"
    }
   ],
   "source": [
    "#Visualisasi Problems\n",
    "plt.figure(figsize=(30,25), dpi=50)\n",
    "\n",
    "sns.countplot(data=df_data, x='Problems',order=pd.value_counts(df_data['Problems']).iloc[:10].index,\n",
    "              palette='bright')\n",
    "\n",
    "plt.title('Top 10 Aktivitas in Tahuna', weight='bold')\n",
    "plt.xlabel('Problem')\n",
    "plt.ylabel('Total Problem')\n",
    "\n",
    "plt.savefig('Top 10 Aktivitas in Tahuna.pdf')"
   ]
  },
  {
   "cell_type": "code",
   "execution_count": 13,
   "id": "e9eb26d2",
   "metadata": {},
   "outputs": [
    {
     "data": {
      "text/plain": [
       "No Service                     63\n",
       "Service Periodic 1000          34\n",
       "Service Periodic 500           27\n",
       "Program Pemeriksaan Mesin       3\n",
       "Service Exciter                 1\n",
       "Service AVR                     1\n",
       "Service Periodic                1\n",
       "Service Periodic 250            1\n",
       "Maintenance Check               1\n",
       "OVH                             1\n",
       "Running Test Load               1\n",
       "Service Pertama Setelah OVH     1\n",
       "Name: Services, dtype: int64"
      ]
     },
     "execution_count": 13,
     "metadata": {},
     "output_type": "execute_result"
    }
   ],
   "source": [
    "df_data['Services'].value_counts() #Menghitung Jumlah Services Pada Dataset"
   ]
  },
  {
   "cell_type": "code",
   "execution_count": 9,
   "id": "bbd6328e",
   "metadata": {},
   "outputs": [
    {
     "data": {
      "image/png": "[encoded data removed]",
      "text/plain": [
       "<Figure size 1500x1250 with 1 Axes>"
      ]
     },
     "metadata": {
      "needs_background": "light"
     },
     "output_type": "display_data"
    }
   ],
   "source": [
    "#Visualisasi Total Service Dataset\n",
    "plt.figure(figsize=(30,25), dpi=50)\n",
    "\n",
    "sns.countplot(data=df_data, x='Services',order=pd.value_counts(df_data['Services']).iloc[:10].index,\n",
    "              palette='mako')\n",
    "\n",
    "plt.title('Services in Tahuna 2020-2022', weight='bold')\n",
    "plt.xlabel('Services')\n",
    "plt.ylabel('Total Services')\n",
    "\n",
    "plt.savefig('Service in Tahuna 2020-2022.pdf')"
   ]
  },
  {
   "cell_type": "code",
   "execution_count": 15,
   "id": "23311350",
   "metadata": {},
   "outputs": [
    {
     "data": {
      "text/plain": [
       "2021    78\n",
       "2022    41\n",
       "2020    16\n",
       "Name: Year, dtype: int64"
      ]
     },
     "execution_count": 15,
     "metadata": {},
     "output_type": "execute_result"
    }
   ],
   "source": [
    "df_data['Year'].value_counts() #Menghitung Jumlah Aktifitas yang dilakukan di Tahuna sesuai Dataset yang ada."
   ]
  },
  {
   "cell_type": "code",
   "execution_count": 16,
   "id": "fc801273",
   "metadata": {},
   "outputs": [
    {
     "data": {
      "image/png": "[encoded data removed]",
      "text/plain": [
       "<Figure size 720x360 with 1 Axes>"
      ]
     },
     "metadata": {
      "needs_background": "light"
     },
     "output_type": "display_data"
    }
   ],
   "source": [
    "#Visualisasi\n",
    "plt.figure(figsize=(10,5))\n",
    "sns.countplot(data=df_data ,x='Year', palette='mako',\n",
    "              order=pd.value_counts(df_data['Year']).index)\n",
    "\n",
    "plt.title('Busiest Year')\n",
    "plt.xlabel('Year')\n",
    "plt.ylabel('Total Activity')\n",
    "plt.show()"
   ]
  },
  {
   "cell_type": "code",
   "execution_count": 17,
   "id": "45ff767d",
   "metadata": {},
   "outputs": [
    {
     "data": {
      "text/html": [
       "<div>\n",
       "<style scoped>\n",
       "    .dataframe tbody tr th:only-of-type {\n",
       "        vertical-align: middle;\n",
       "    }\n",
       "\n",
       "    .dataframe tbody tr th {\n",
       "        vertical-align: top;\n",
       "    }\n",
       "\n",
       "    .dataframe thead th {\n",
       "        text-align: right;\n",
       "    }\n",
       "</style>\n",
       "<table border=\"1\" class=\"dataframe\">\n",
       "  <thead>\n",
       "    <tr style=\"text-align: right;\">\n",
       "      <th></th>\n",
       "      <th>Types of Time Breakdown</th>\n",
       "      <th>mean</th>\n",
       "    </tr>\n",
       "  </thead>\n",
       "  <tbody>\n",
       "    <tr>\n",
       "      <th>0</th>\n",
       "      <td>Periodical Services (H)</td>\n",
       "      <td>5.180741</td>\n",
       "    </tr>\n",
       "    <tr>\n",
       "      <th>1</th>\n",
       "      <td>Trouble (H)</td>\n",
       "      <td>2.262963</td>\n",
       "    </tr>\n",
       "  </tbody>\n",
       "</table>\n",
       "</div>"
      ],
      "text/plain": [
       "   Types of Time Breakdown      mean\n",
       "0  Periodical Services (H)  5.180741\n",
       "1              Trouble (H)  2.262963"
      ]
     },
     "execution_count": 17,
     "metadata": {},
     "output_type": "execute_result"
    }
   ],
   "source": [
    "#Rata-rata Menyelesaikan Waktu Breakdown\n",
    "df_hours = df_data[['Periodical Services (H)','Trouble (H)']].mean()\n",
    "df_hours = pd.DataFrame(df_hours).reset_index()\n",
    "df_hours = df_hours.rename(columns ={'index':'Types of Time Breakdown', 0:'mean'})\n",
    "df_hours"
   ]
  },
  {
   "cell_type": "code",
   "execution_count": 18,
   "id": "1c4ea02b",
   "metadata": {},
   "outputs": [
    {
     "data": {
      "text/plain": [
       "Text(0.5, 1.0, 'Time Breakdown at Tahuna')"
      ]
     },
     "execution_count": 18,
     "metadata": {},
     "output_type": "execute_result"
    },
    {
     "data": {
      "image/png": "[encoded data removed]",
      "text/plain": [
       "<Figure size 432x288 with 1 Axes>"
      ]
     },
     "metadata": {
      "needs_background": "light"
     },
     "output_type": "display_data"
    }
   ],
   "source": [
    "plt.bar(df_hours['Types of Time Breakdown'], df_hours['mean'])\n",
    "plt.xlabel('Type of Time  Breakdown')\n",
    "plt.ylabel('Average Time Breakdown')\n",
    "plt.title('Time Breakdown at Tahuna')"
   ]
  },
  {
   "cell_type": "code",
   "execution_count": 19,
   "id": "dc22d31a",
   "metadata": {},
   "outputs": [
    {
     "data": {
      "text/plain": [
       "7.44"
      ]
     },
     "execution_count": 19,
     "metadata": {},
     "output_type": "execute_result"
    }
   ],
   "source": [
    "df_data['all_Time Breakdown']= df_data.apply(lambda x: x['Periodical Services (H)'] + x['Trouble (H)'], axis=1)\n",
    "m = df_data['all_Time Breakdown'].mean()\n",
    "np.round(m,2)"
   ]
  }
 ],
 "metadata": {
  "kernelspec": {
   "display_name": "Python 3 (ipykernel)",
   "language": "python",
   "name": "python3"
  },
  "language_info": {
   "codemirror_mode": {
    "name": "ipython",
    "version": 3
   },
   "file_extension": ".py",
   "mimetype": "text/x-python",
   "name": "python",
   "nbconvert_exporter": "python",
   "pygments_lexer": "ipython3",
   "version": "3.9.12"
  }
 },
 "nbformat": 4,
 "nbformat_minor": 5
}
